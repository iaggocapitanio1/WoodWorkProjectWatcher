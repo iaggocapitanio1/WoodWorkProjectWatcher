{
 "cells": [
  {
   "cell_type": "code",
   "execution_count": 1,
   "id": "85f5967a",
   "metadata": {},
   "outputs": [],
   "source": [
    "path = \"/home/iaggo/Documents/Eins/WoodWorkProjectWatcher/media/public/mofreitas/clientes/iaggo.capitanio@gmail.com/Chanut/briefing/Listas de Corte e Etiquetas/CHANUT_BAR.xlsx\""
   ]
  },
  {
   "cell_type": "code",
   "execution_count": 2,
   "id": "15a1399e",
   "metadata": {},
   "outputs": [],
   "source": [
    "from utilities.functions import verify, get_budget_name, validate_path, generate_id, part_panels_payload\n",
    "from utilities.sheet import get_data_frame, get_valid_table\n",
    "from payload import PartPayload"
   ]
  },
  {
   "cell_type": "code",
   "execution_count": 52,
   "id": "98f7f94c",
   "metadata": {},
   "outputs": [],
   "source": [
    "import datetime\n",
    "from pandas import DataFrame\n",
    "\n",
    "\n"
   ]
  },
  {
   "cell_type": "code",
   "execution_count": 53,
   "id": "57a211ee",
   "metadata": {},
   "outputs": [],
   "source": [
    "file_path = validate_path(path)\n",
    "if verify(source_path=file_path):\n",
    "    file_name = file_path.stem.upper().strip()\n",
    "    budget = get_budget_name(path)\n",
    "    furniture = file_name.replace(budget.upper().strip(), '').replace(' ', '').strip('_')\n",
    "    project_id = generate_id(name=budget, object_type='Project')"
   ]
  },
  {
   "cell_type": "code",
   "execution_count": 54,
   "id": "b06bec22",
   "metadata": {},
   "outputs": [
    {
     "data": {
      "text/plain": [
       "'BAR'"
      ]
     },
     "execution_count": 54,
     "metadata": {},
     "output_type": "execute_result"
    }
   ],
   "source": [
    "furniture"
   ]
  },
  {
   "cell_type": "code",
   "execution_count": 55,
   "id": "378f2d50",
   "metadata": {},
   "outputs": [
    {
     "data": {
      "text/plain": [
       "'urn:ngsi-ld:Project:Chanut'"
      ]
     },
     "execution_count": 55,
     "metadata": {},
     "output_type": "execute_result"
    }
   ],
   "source": [
    "project_id"
   ]
  },
  {
   "cell_type": "code",
   "execution_count": 56,
   "id": "51ef3c30",
   "metadata": {},
   "outputs": [],
   "source": [
    "panels_dataframe = get_data_frame(sheet_name=\"panels\", path=path)"
   ]
  },
  {
   "cell_type": "code",
   "execution_count": 57,
   "id": "c5ceda99",
   "metadata": {},
   "outputs": [
    {
     "ename": "JSONDecodeError",
     "evalue": "Expecting value: line 1 column 1 (char 0)",
     "output_type": "error",
     "traceback": [
      "\u001b[0;31m---------------------------------------------------------------------------\u001b[0m",
      "\u001b[0;31mJSONDecodeError\u001b[0m                           Traceback (most recent call last)",
      "File \u001b[0;32m~/Documents/Eins/WoodWorkProjectWatcher/venv/lib/python3.10/site-packages/requests/models.py:971\u001b[0m, in \u001b[0;36mResponse.json\u001b[0;34m(self, **kwargs)\u001b[0m\n\u001b[1;32m    970\u001b[0m \u001b[38;5;28;01mtry\u001b[39;00m:\n\u001b[0;32m--> 971\u001b[0m     \u001b[38;5;28;01mreturn\u001b[39;00m \u001b[43mcomplexjson\u001b[49m\u001b[38;5;241;43m.\u001b[39;49m\u001b[43mloads\u001b[49m\u001b[43m(\u001b[49m\u001b[38;5;28;43mself\u001b[39;49m\u001b[38;5;241;43m.\u001b[39;49m\u001b[43mtext\u001b[49m\u001b[43m,\u001b[49m\u001b[43m \u001b[49m\u001b[38;5;241;43m*\u001b[39;49m\u001b[38;5;241;43m*\u001b[39;49m\u001b[43mkwargs\u001b[49m\u001b[43m)\u001b[49m\n\u001b[1;32m    972\u001b[0m \u001b[38;5;28;01mexcept\u001b[39;00m JSONDecodeError \u001b[38;5;28;01mas\u001b[39;00m e:\n\u001b[1;32m    973\u001b[0m     \u001b[38;5;66;03m# Catch JSON-related errors and raise as requests.JSONDecodeError\u001b[39;00m\n\u001b[1;32m    974\u001b[0m     \u001b[38;5;66;03m# This aliases json.JSONDecodeError and simplejson.JSONDecodeError\u001b[39;00m\n",
      "File \u001b[0;32m/usr/lib/python3.10/json/__init__.py:346\u001b[0m, in \u001b[0;36mloads\u001b[0;34m(s, cls, object_hook, parse_float, parse_int, parse_constant, object_pairs_hook, **kw)\u001b[0m\n\u001b[1;32m    343\u001b[0m \u001b[38;5;28;01mif\u001b[39;00m (\u001b[38;5;28mcls\u001b[39m \u001b[38;5;129;01mis\u001b[39;00m \u001b[38;5;28;01mNone\u001b[39;00m \u001b[38;5;129;01mand\u001b[39;00m object_hook \u001b[38;5;129;01mis\u001b[39;00m \u001b[38;5;28;01mNone\u001b[39;00m \u001b[38;5;129;01mand\u001b[39;00m\n\u001b[1;32m    344\u001b[0m         parse_int \u001b[38;5;129;01mis\u001b[39;00m \u001b[38;5;28;01mNone\u001b[39;00m \u001b[38;5;129;01mand\u001b[39;00m parse_float \u001b[38;5;129;01mis\u001b[39;00m \u001b[38;5;28;01mNone\u001b[39;00m \u001b[38;5;129;01mand\u001b[39;00m\n\u001b[1;32m    345\u001b[0m         parse_constant \u001b[38;5;129;01mis\u001b[39;00m \u001b[38;5;28;01mNone\u001b[39;00m \u001b[38;5;129;01mand\u001b[39;00m object_pairs_hook \u001b[38;5;129;01mis\u001b[39;00m \u001b[38;5;28;01mNone\u001b[39;00m \u001b[38;5;129;01mand\u001b[39;00m \u001b[38;5;129;01mnot\u001b[39;00m kw):\n\u001b[0;32m--> 346\u001b[0m     \u001b[38;5;28;01mreturn\u001b[39;00m \u001b[43m_default_decoder\u001b[49m\u001b[38;5;241;43m.\u001b[39;49m\u001b[43mdecode\u001b[49m\u001b[43m(\u001b[49m\u001b[43ms\u001b[49m\u001b[43m)\u001b[49m\n\u001b[1;32m    347\u001b[0m \u001b[38;5;28;01mif\u001b[39;00m \u001b[38;5;28mcls\u001b[39m \u001b[38;5;129;01mis\u001b[39;00m \u001b[38;5;28;01mNone\u001b[39;00m:\n",
      "File \u001b[0;32m/usr/lib/python3.10/json/decoder.py:337\u001b[0m, in \u001b[0;36mJSONDecoder.decode\u001b[0;34m(self, s, _w)\u001b[0m\n\u001b[1;32m    333\u001b[0m \u001b[38;5;250m\u001b[39m\u001b[38;5;124;03m\"\"\"Return the Python representation of ``s`` (a ``str`` instance\u001b[39;00m\n\u001b[1;32m    334\u001b[0m \u001b[38;5;124;03mcontaining a JSON document).\u001b[39;00m\n\u001b[1;32m    335\u001b[0m \n\u001b[1;32m    336\u001b[0m \u001b[38;5;124;03m\"\"\"\u001b[39;00m\n\u001b[0;32m--> 337\u001b[0m obj, end \u001b[38;5;241m=\u001b[39m \u001b[38;5;28;43mself\u001b[39;49m\u001b[38;5;241;43m.\u001b[39;49m\u001b[43mraw_decode\u001b[49m\u001b[43m(\u001b[49m\u001b[43ms\u001b[49m\u001b[43m,\u001b[49m\u001b[43m \u001b[49m\u001b[43midx\u001b[49m\u001b[38;5;241;43m=\u001b[39;49m\u001b[43m_w\u001b[49m\u001b[43m(\u001b[49m\u001b[43ms\u001b[49m\u001b[43m,\u001b[49m\u001b[43m \u001b[49m\u001b[38;5;241;43m0\u001b[39;49m\u001b[43m)\u001b[49m\u001b[38;5;241;43m.\u001b[39;49m\u001b[43mend\u001b[49m\u001b[43m(\u001b[49m\u001b[43m)\u001b[49m\u001b[43m)\u001b[49m\n\u001b[1;32m    338\u001b[0m end \u001b[38;5;241m=\u001b[39m _w(s, end)\u001b[38;5;241m.\u001b[39mend()\n",
      "File \u001b[0;32m/usr/lib/python3.10/json/decoder.py:355\u001b[0m, in \u001b[0;36mJSONDecoder.raw_decode\u001b[0;34m(self, s, idx)\u001b[0m\n\u001b[1;32m    354\u001b[0m \u001b[38;5;28;01mexcept\u001b[39;00m \u001b[38;5;167;01mStopIteration\u001b[39;00m \u001b[38;5;28;01mas\u001b[39;00m err:\n\u001b[0;32m--> 355\u001b[0m     \u001b[38;5;28;01mraise\u001b[39;00m JSONDecodeError(\u001b[38;5;124m\"\u001b[39m\u001b[38;5;124mExpecting value\u001b[39m\u001b[38;5;124m\"\u001b[39m, s, err\u001b[38;5;241m.\u001b[39mvalue) \u001b[38;5;28;01mfrom\u001b[39;00m \u001b[38;5;28;01mNone\u001b[39;00m\n\u001b[1;32m    356\u001b[0m \u001b[38;5;28;01mreturn\u001b[39;00m obj, end\n",
      "\u001b[0;31mJSONDecodeError\u001b[0m: Expecting value: line 1 column 1 (char 0)",
      "\nDuring handling of the above exception, another exception occurred:\n",
      "\u001b[0;31mJSONDecodeError\u001b[0m                           Traceback (most recent call last)",
      "Cell \u001b[0;32mIn[57], line 1\u001b[0m\n\u001b[0;32m----> 1\u001b[0m \u001b[43mpart_panels_payload\u001b[49m\u001b[43m(\u001b[49m\u001b[43mdata_frame\u001b[49m\u001b[38;5;241;43m=\u001b[39;49m\u001b[43mpanels_dataframe\u001b[49m\u001b[43m,\u001b[49m\u001b[43m \u001b[49m\u001b[43mbelongs_to\u001b[49m\u001b[38;5;241;43m=\u001b[39;49m\u001b[43mproject_id\u001b[49m\u001b[43m)\u001b[49m\n",
      "File \u001b[0;32m~/Documents/Eins/WoodWorkProjectWatcher/utilities/functions.py:117\u001b[0m, in \u001b[0;36mpart_panels_payload\u001b[0;34m(data_frame, belongs_to, **kwargs)\u001b[0m\n\u001b[1;32m    114\u001b[0m \u001b[38;5;28;01mfor\u001b[39;00m _, row \u001b[38;5;129;01min\u001b[39;00m data_frame\u001b[38;5;241m.\u001b[39miterrows():\n\u001b[1;32m    115\u001b[0m     name, sort, mat, quant, length, width, thickness, tag, nesting, cnc, f2, f3, f4, f5, groove, o2, o3, o4, o5, \\\n\u001b[1;32m    116\u001b[0m         obs, weight, op_cnc \u001b[38;5;241m=\u001b[39m row\n\u001b[0;32m--> 117\u001b[0m     \u001b[43mprocess_row\u001b[49m\u001b[43m(\u001b[49m\u001b[43mname\u001b[49m\u001b[43m,\u001b[49m\u001b[43m \u001b[49m\u001b[43mPartPayload\u001b[49m\u001b[43m,\u001b[49m\u001b[43m \u001b[49m\u001b[43mbelongs_to\u001b[49m\u001b[43m,\u001b[49m\u001b[43m \u001b[49m\u001b[43mpartName\u001b[49m\u001b[38;5;241;43m=\u001b[39;49m\u001b[43mname\u001b[49m\u001b[43m,\u001b[49m\u001b[43m \u001b[49m\u001b[43msort\u001b[49m\u001b[38;5;241;43m=\u001b[39;49m\u001b[43msort\u001b[49m\u001b[43m,\u001b[49m\u001b[43m \u001b[49m\u001b[43mmaterial\u001b[49m\u001b[38;5;241;43m=\u001b[39;49m\u001b[43mmat\u001b[49m\u001b[43m,\u001b[49m\u001b[43m \u001b[49m\u001b[43mamount\u001b[49m\u001b[38;5;241;43m=\u001b[39;49m\u001b[43mquant\u001b[49m\u001b[43m,\u001b[49m\u001b[43m \u001b[49m\u001b[43mlength\u001b[49m\u001b[38;5;241;43m=\u001b[39;49m\u001b[43mlength\u001b[49m\u001b[43m,\u001b[49m\n\u001b[1;32m    118\u001b[0m \u001b[43m                \u001b[49m\u001b[43mwidth\u001b[49m\u001b[38;5;241;43m=\u001b[39;49m\u001b[43mwidth\u001b[49m\u001b[43m,\u001b[49m\u001b[43m \u001b[49m\u001b[43mweight\u001b[49m\u001b[38;5;241;43m=\u001b[39;49m\u001b[43mweight\u001b[49m\u001b[43m,\u001b[49m\u001b[43m \u001b[49m\u001b[43mdimensions\u001b[49m\u001b[38;5;241;43m=\u001b[39;49m\u001b[43mgenerate_dimensions\u001b[49m\u001b[43m(\u001b[49m\u001b[43m)\u001b[49m\u001b[43m,\u001b[49m\u001b[43m \u001b[49m\u001b[43mthickness\u001b[49m\u001b[38;5;241;43m=\u001b[39;49m\u001b[43mthickness\u001b[49m\u001b[43m,\u001b[49m\u001b[43m \u001b[49m\u001b[43mtag\u001b[49m\u001b[38;5;241;43m=\u001b[39;49m\u001b[43mtag\u001b[49m\u001b[43m,\u001b[49m\n\u001b[1;32m    119\u001b[0m \u001b[43m                \u001b[49m\u001b[43mnestingFlag\u001b[49m\u001b[38;5;241;43m=\u001b[39;49m\u001b[43mcheck\u001b[49m\u001b[43m(\u001b[49m\u001b[43mnesting\u001b[49m\u001b[43m)\u001b[49m\u001b[43m,\u001b[49m\u001b[43m \u001b[49m\u001b[43mcncFlag\u001b[49m\u001b[38;5;241;43m=\u001b[39;49m\u001b[43mcheck\u001b[49m\u001b[43m(\u001b[49m\u001b[43mcnc\u001b[49m\u001b[43m)\u001b[49m\u001b[43m,\u001b[49m\u001b[43m \u001b[49m\u001b[43mf2\u001b[49m\u001b[38;5;241;43m=\u001b[39;49m\u001b[43mf2\u001b[49m\u001b[43m,\u001b[49m\u001b[43m \u001b[49m\u001b[43mf3\u001b[49m\u001b[38;5;241;43m=\u001b[39;49m\u001b[43mf3\u001b[49m\u001b[43m,\u001b[49m\u001b[43m \u001b[49m\u001b[43mf4\u001b[49m\u001b[38;5;241;43m=\u001b[39;49m\u001b[43mf4\u001b[49m\u001b[43m,\u001b[49m\u001b[43m \u001b[49m\u001b[43mf5\u001b[49m\u001b[38;5;241;43m=\u001b[39;49m\u001b[43mf5\u001b[49m\u001b[43m,\u001b[49m\u001b[43m \u001b[49m\u001b[43mgroove\u001b[49m\u001b[38;5;241;43m=\u001b[39;49m\u001b[43mgroove\u001b[49m\u001b[43m,\u001b[49m\n\u001b[1;32m    120\u001b[0m \u001b[43m                \u001b[49m\u001b[43morla2\u001b[49m\u001b[38;5;241;43m=\u001b[39;49m\u001b[43mcheck\u001b[49m\u001b[43m(\u001b[49m\u001b[43mo2\u001b[49m\u001b[43m)\u001b[49m\u001b[43m,\u001b[49m\u001b[43m \u001b[49m\u001b[43morla3\u001b[49m\u001b[38;5;241;43m=\u001b[39;49m\u001b[43mcheck\u001b[49m\u001b[43m(\u001b[49m\u001b[43mo3\u001b[49m\u001b[43m)\u001b[49m\u001b[43m,\u001b[49m\u001b[43m \u001b[49m\u001b[43morla4\u001b[49m\u001b[38;5;241;43m=\u001b[39;49m\u001b[43mcheck\u001b[49m\u001b[43m(\u001b[49m\u001b[43mo4\u001b[49m\u001b[43m)\u001b[49m\u001b[43m,\u001b[49m\u001b[43m \u001b[49m\u001b[43morla5\u001b[49m\u001b[38;5;241;43m=\u001b[39;49m\u001b[43mcheck\u001b[49m\u001b[43m(\u001b[49m\u001b[43mo5\u001b[49m\u001b[43m)\u001b[49m\u001b[43m,\u001b[49m\u001b[43m \u001b[49m\u001b[43mobservation\u001b[49m\u001b[38;5;241;43m=\u001b[39;49m\u001b[43mobs\u001b[49m\u001b[43m)\u001b[49m\n",
      "File \u001b[0;32m~/Documents/Eins/WoodWorkProjectWatcher/utilities/functions.py:95\u001b[0m, in \u001b[0;36mprocess_row\u001b[0;34m(name, payload_cls, belongs_to, **kwargs)\u001b[0m\n\u001b[1;32m     93\u001b[0m identifier \u001b[38;5;241m=\u001b[39m generate_id(name, object_type\u001b[38;5;241m=\u001b[39mobject_type)\n\u001b[1;32m     94\u001b[0m payload \u001b[38;5;241m=\u001b[39m payload_cls(\u001b[38;5;28mid\u001b[39m\u001b[38;5;241m=\u001b[39midentifier, belongsTo\u001b[38;5;241m=\u001b[39mbelongs_to, \u001b[38;5;241m*\u001b[39m\u001b[38;5;241m*\u001b[39mkwargs)\n\u001b[0;32m---> 95\u001b[0m \u001b[43msend_payload\u001b[49m\u001b[43m(\u001b[49m\u001b[43mpayload\u001b[49m\u001b[43m)\u001b[49m\n",
      "File \u001b[0;32m~/Documents/Eins/WoodWorkProjectWatcher/utilities/functions.py:80\u001b[0m, in \u001b[0;36msend_payload\u001b[0;34m(payload)\u001b[0m\n\u001b[1;32m     78\u001b[0m \u001b[38;5;28;01mif\u001b[39;00m response\u001b[38;5;241m.\u001b[39mstatus_code \u001b[38;5;241m!=\u001b[39m \u001b[38;5;241m201\u001b[39m:\n\u001b[1;32m     79\u001b[0m     logger\u001b[38;5;241m.\u001b[39mdebug(\u001b[38;5;124m\"\u001b[39m\u001b[38;5;124mTrying to patch payload...\u001b[39m\u001b[38;5;124m\"\u001b[39m)\n\u001b[0;32m---> 80\u001b[0m     response \u001b[38;5;241m=\u001b[39m \u001b[43mpayload\u001b[49m\u001b[38;5;241;43m.\u001b[39;49m\u001b[43mpatch\u001b[49m\u001b[43m(\u001b[49m\u001b[43m)\u001b[49m\n\u001b[1;32m     81\u001b[0m     logger\u001b[38;5;241m.\u001b[39mdebug(\u001b[38;5;124mf\u001b[39m\u001b[38;5;124m\"\u001b[39m\u001b[38;5;124mResponse Status Code: \u001b[39m\u001b[38;5;132;01m{\u001b[39;00mresponse\u001b[38;5;241m.\u001b[39mstatus_code\u001b[38;5;132;01m}\u001b[39;00m\u001b[38;5;124m\"\u001b[39m)\n",
      "File \u001b[0;32m~/Documents/Eins/WoodWorkProjectWatcher/payload/core/core.py:121\u001b[0m, in \u001b[0;36mBasePayload.patch\u001b[0;34m(self, params)\u001b[0m\n\u001b[1;32m    120\u001b[0m \u001b[38;5;28;01mdef\u001b[39;00m \u001b[38;5;21mpatch\u001b[39m(\u001b[38;5;28mself\u001b[39m, params\u001b[38;5;241m=\u001b[39m\u001b[38;5;28;01mNone\u001b[39;00m):\n\u001b[0;32m--> 121\u001b[0m     \u001b[38;5;28;01mreturn\u001b[39;00m requests\u001b[38;5;241m.\u001b[39mpatch(\u001b[38;5;28mself\u001b[39m\u001b[38;5;241m.\u001b[39murl_with_pk() \u001b[38;5;241m+\u001b[39m \u001b[38;5;124m'\u001b[39m\u001b[38;5;124mattrs/\u001b[39m\u001b[38;5;124m'\u001b[39m, \u001b[38;5;28;43mself\u001b[39;49m\u001b[38;5;241;43m.\u001b[39;49m\u001b[43mpartial_json\u001b[49m\u001b[43m(\u001b[49m\u001b[43m)\u001b[49m, auth\u001b[38;5;241m=\u001b[39moauth, headers\u001b[38;5;241m=\u001b[39m\u001b[38;5;28mself\u001b[39m\u001b[38;5;241m.\u001b[39mheaders,\n\u001b[1;32m    122\u001b[0m                           params\u001b[38;5;241m=\u001b[39mparams)\n",
      "File \u001b[0;32m~/Documents/Eins/WoodWorkProjectWatcher/payload/core/core.py:105\u001b[0m, in \u001b[0;36mBasePayload.partial_json\u001b[0;34m(self)\u001b[0m\n\u001b[1;32m    104\u001b[0m \u001b[38;5;28;01mdef\u001b[39;00m \u001b[38;5;21mpartial_json\u001b[39m(\u001b[38;5;28mself\u001b[39m):\n\u001b[0;32m--> 105\u001b[0m     \u001b[38;5;28;01mreturn\u001b[39;00m json\u001b[38;5;241m.\u001b[39mdumps(\u001b[38;5;28;43mself\u001b[39;49m\u001b[38;5;241;43m.\u001b[39;49m\u001b[43mpartial_body\u001b[49m\u001b[43m(\u001b[49m\u001b[43m)\u001b[49m)\n",
      "File \u001b[0;32m~/Documents/Eins/WoodWorkProjectWatcher/payload/core/core.py:93\u001b[0m, in \u001b[0;36mBasePayload.partial_body\u001b[0;34m(self)\u001b[0m\n\u001b[1;32m     91\u001b[0m \u001b[38;5;28;01mdef\u001b[39;00m \u001b[38;5;21mpartial_body\u001b[39m(\u001b[38;5;28mself\u001b[39m) \u001b[38;5;241m-\u001b[39m\u001b[38;5;241m>\u001b[39m \u001b[38;5;28mdict\u001b[39m:\n\u001b[1;32m     92\u001b[0m     partial_body \u001b[38;5;241m=\u001b[39m \u001b[38;5;28mdict\u001b[39m()\n\u001b[0;32m---> 93\u001b[0m     actual \u001b[38;5;241m=\u001b[39m \u001b[38;5;28;43mself\u001b[39;49m\u001b[38;5;241;43m.\u001b[39;49m\u001b[43mget\u001b[49m\u001b[43m(\u001b[49m\u001b[38;5;28;43mdict\u001b[39;49m\u001b[43m(\u001b[49m\u001b[43moptions\u001b[49m\u001b[38;5;241;43m=\u001b[39;49m\u001b[38;5;124;43m'\u001b[39;49m\u001b[38;5;124;43mkeyValues\u001b[39;49m\u001b[38;5;124;43m'\u001b[39;49m\u001b[43m)\u001b[49m\u001b[43m)\u001b[49m\u001b[38;5;241;43m.\u001b[39;49m\u001b[43mjson\u001b[49m\u001b[43m(\u001b[49m\u001b[43m)\u001b[49m\n\u001b[1;32m     94\u001b[0m     \u001b[38;5;28;01mfor\u001b[39;00m prop \u001b[38;5;129;01min\u001b[39;00m \u001b[38;5;28mself\u001b[39m\u001b[38;5;241m.\u001b[39mclean_properties():\n\u001b[1;32m     95\u001b[0m         value \u001b[38;5;241m=\u001b[39m \u001b[38;5;28mgetattr\u001b[39m(\u001b[38;5;28mself\u001b[39m, prop)\n",
      "File \u001b[0;32m~/Documents/Eins/WoodWorkProjectWatcher/venv/lib/python3.10/site-packages/requests/models.py:975\u001b[0m, in \u001b[0;36mResponse.json\u001b[0;34m(self, **kwargs)\u001b[0m\n\u001b[1;32m    971\u001b[0m     \u001b[38;5;28;01mreturn\u001b[39;00m complexjson\u001b[38;5;241m.\u001b[39mloads(\u001b[38;5;28mself\u001b[39m\u001b[38;5;241m.\u001b[39mtext, \u001b[38;5;241m*\u001b[39m\u001b[38;5;241m*\u001b[39mkwargs)\n\u001b[1;32m    972\u001b[0m \u001b[38;5;28;01mexcept\u001b[39;00m JSONDecodeError \u001b[38;5;28;01mas\u001b[39;00m e:\n\u001b[1;32m    973\u001b[0m     \u001b[38;5;66;03m# Catch JSON-related errors and raise as requests.JSONDecodeError\u001b[39;00m\n\u001b[1;32m    974\u001b[0m     \u001b[38;5;66;03m# This aliases json.JSONDecodeError and simplejson.JSONDecodeError\u001b[39;00m\n\u001b[0;32m--> 975\u001b[0m     \u001b[38;5;28;01mraise\u001b[39;00m RequestsJSONDecodeError(e\u001b[38;5;241m.\u001b[39mmsg, e\u001b[38;5;241m.\u001b[39mdoc, e\u001b[38;5;241m.\u001b[39mpos)\n",
      "\u001b[0;31mJSONDecodeError\u001b[0m: Expecting value: line 1 column 1 (char 0)"
     ]
    }
   ],
   "source": [
    "\n",
    "part_panels_payload(data_frame=panels_dataframe, belongs_to=project_id)"
   ]
  },
  {
   "cell_type": "code",
   "execution_count": null,
   "id": "f928ace9",
   "metadata": {},
   "outputs": [],
   "source": [
    "def generate_payload(path: str, belongs_to: str, orderBy: str) -> None:\n",
    "    logger.info(\"Extracting data from dataframes!\")\n",
    "    panels_df = get_data_frame(sheet_name=\"panels\", path=path)\n",
    "    part_panels_payload(data_frame=panels_df, belongs_to=belongs_to, orderBy=orderBy)\n",
    "    compact_panels_df = self.get_data_frame(sheet_name=\"compact-panels\", path=path)\n",
    "    part_compact_panels_payload(data_frame=compact_panels_df, belongs_to=belongs_to, orderBy=orderBy)\n",
    "    accessories_df = self.get_data_frame(sheet_name=\"accessories\", path=path)\n",
    "    consumable_accessories_payload(data_frame=accessories_df, belongs_to=belongs_to)"
   ]
  },
  {
   "cell_type": "code",
   "execution_count": 60,
   "id": "3fbab4b4",
   "metadata": {},
   "outputs": [],
   "source": [
    "headers = {'Content-Type': 'application/json', 'Fiware-Service': 'woodwork40', 'Link': '<http://193.136.195.33:80/context/ww4zero.context-ngsi.jsonld>; rel=\"http://www.w3.org/ns/json-ld#context;type=\"application/ld+json\"'}"
   ]
  },
  {
   "cell_type": "code",
   "execution_count": 64,
   "id": "5d5adbf7",
   "metadata": {},
   "outputs": [],
   "source": [
    "url = 'http://localhost:8000/api/v1/part/'\n",
    "\n",
    "payload ='{\"id\": \"urn:ngsi-ld:Part:CHANUT_BAR_B_COSTA1\", \"type\": \"Part\", \"cncFlag\": {\"type\": \"Property\", \"value\": false}, \"f2\": {\"type\": \"Property\", \"value\": \"\"}, \"f3\": {\"type\": \"Property\", \"value\": \"\"}, \"f4\": {\"type\": \"Property\", \"value\": \"\"}, \"f5\": {\"type\": \"Property\", \"value\": \"\"}, \"groove\": {\"type\": \"Property\", \"value\": \"\"}, \"image\": {\"type\": \"Property\", \"value\": \"\"}, \"length\": {\"type\": \"Property\", \"value\": 1471.0}, \"material\": {\"type\": \"Property\", \"value\": \"HDF\"}, \"nestingFlag\": {\"type\": \"Property\", \"value\": false}, \"observation\": {\"type\": \"Property\", \"value\": \"\"}, \"orla2\": {\"type\": \"Property\", \"value\": false}, \"orla3\": {\"type\": \"Property\", \"value\": false}, \"orla4\": {\"type\": \"Property\", \"value\": false}, \"orla5\": {\"type\": \"Property\", \"value\": false}, \"partName\": {\"type\": \"Property\", \"value\": \"CHANUT_BAR_B_COSTA1\"}, \"sort\": {\"type\": \"Property\", \"value\": \"Painel\"}, \"thickness\": {\"type\": \"Property\", \"value\": 3.0}, \"tupia\": {\"type\": \"Property\", \"value\": \"\"}, \"weight\": {\"type\": \"Property\", \"value\": 3.44}, \"width\": {\"type\": \"Property\", \"value\": 1000.0}, \"belongsTo\": {\"type\": \"Relationship\", \"object\": \"urn:ngsi-ld:Project:Chanut\"}, \"belongsToFurniture\": {\"type\": \"Relationship\", \"object\": \"\"}, \"dimensions\": {\"type\": \"GeoProperty\", \"value\": {\"type\": \"Polygon\", \"coordinates\": [null]}}}'"
   ]
  },
  {
   "cell_type": "code",
   "execution_count": 65,
   "id": "ac588ffc",
   "metadata": {},
   "outputs": [],
   "source": [
    "import requests\n",
    "from client import oauth\n",
    "response = requests.post(url, data=payload, headers=headers, auth=oauth)"
   ]
  },
  {
   "cell_type": "code",
   "execution_count": 66,
   "id": "32280e6e",
   "metadata": {},
   "outputs": [
    {
     "name": "stdout",
     "output_type": "stream",
     "text": [
      "{'type': 'https://uri.etsi.org/ngsi-ld/errors/BadRequestData', 'title': 'Empty URI', 'detail': 'object'} 400\n"
     ]
    }
   ],
   "source": [
    "print(response.json(), response.status_code)"
   ]
  },
  {
   "cell_type": "code",
   "execution_count": 77,
   "id": "94fcdb0b",
   "metadata": {},
   "outputs": [
    {
     "name": "stdout",
     "output_type": "stream",
     "text": [
      "Watchdog received created event - /home/iaggo/Documents/Eins/WoodWorkProjectWatcher/media/public/mofreitas/clientes/iaggo.capitanio@gmail.com/Chanut/briefing/Listas de Corte e Etiquetas/CHANUT_BAR.xlsx.\n",
      "Nome do ficheiro: BAR\n"
     ]
    }
   ],
   "source": [
    "import json\n",
    "import os\n",
    "import time\n",
    "import uuid\n",
    "\n",
    "import pandas as pd\n",
    "import requests\n",
    "import watchdog.events\n",
    "import watchdog.observers\n",
    "from watchdog.events import FileSystemEventHandler\n",
    "\n",
    "# Define the columns to read from the sheets\n",
    "cols = [0, 1, 2, 3, 4, 5, 6, 7, 8, 9, 10, 11, 12, 13, 14, 15, 16, 17, 18, 19]\n",
    "cols2 = [0, 1, 2, 3, 4]\n",
    "cols1 = [0, 1, 2, 3, 4, 5, 6, 7, 8, 9, 10, 11, 12, 13, 14, 15]\n",
    "src_path = \"/home/iaggo/Documents/Eins/WoodWorkProjectWatcher/media/public/mofreitas/clientes/iaggo.capitanio@gmail.com/Chanut/briefing/Listas de Corte e Etiquetas/CHANUT_BAR.xlsx\"\n",
    "\n",
    "\n",
    "print(\"Watchdog received created event - %s.\" % path)\n",
    "filename = path\n",
    "filename2 = os.path.basename(filename)\n",
    "filename3 = filename2.split(\"_\", 3)[-1].split(\".\")[0]\n",
    "print(\"Nome do ficheiro:\", filename3)\n",
    "\n",
    "# Read data from sheet_name=[6]\n",
    "df6 = pd.read_excel(filename, sheet_name=['DATA - Paineis'], usecols=cols)\n",
    "df6_concat = pd.concat(df6[frame] for frame in df6.keys())\n",
    "df6_concat = df6_concat.dropna(subset=['REF PEÇA (A)'])\n",
    "\n",
    "# Read data from sheet_name=[9]\n",
    "df9 = pd.read_excel(filename, sheet_name=['DATA - Macicos'], usecols=cols1)\n",
    "df9_concat = pd.concat(df9[frame] for frame in df9.keys())\n",
    "df9_concat = df9_concat.dropna(subset=['REF PEÇA (A)'])\n",
    "\n",
    "# Combine data from sheet_name=[6] and sheet_name=[9]\n",
    "combined_df = pd.concat([df6_concat, df9_concat])\n",
    "updated_group_names = []\n",
    "df10 = pd.read_excel(filename, sheet_name=['DATA - ASM'], usecols=cols2)\n",
    "df11 = pd.concat(df10[frame] for frame in df10.keys())"
   ]
  },
  {
   "cell_type": "code",
   "execution_count": 79,
   "id": "3023d29e",
   "metadata": {},
   "outputs": [
    {
     "data": {
      "text/html": [
       "<div>\n",
       "<style scoped>\n",
       "    .dataframe tbody tr th:only-of-type {\n",
       "        vertical-align: middle;\n",
       "    }\n",
       "\n",
       "    .dataframe tbody tr th {\n",
       "        vertical-align: top;\n",
       "    }\n",
       "\n",
       "    .dataframe thead th {\n",
       "        text-align: right;\n",
       "    }\n",
       "</style>\n",
       "<table border=\"1\" class=\"dataframe\">\n",
       "  <thead>\n",
       "    <tr style=\"text-align: right;\">\n",
       "      <th></th>\n",
       "      <th>REF PEÇA (A)</th>\n",
       "      <th>Tipo (B)</th>\n",
       "      <th>Material (C)</th>\n",
       "      <th>QTD (D)</th>\n",
       "      <th>COMP (E)</th>\n",
       "    </tr>\n",
       "  </thead>\n",
       "  <tbody>\n",
       "    <tr>\n",
       "      <th>0</th>\n",
       "      <td>CHANUT_BAR</td>\n",
       "      <td>NaN</td>\n",
       "      <td>NaN</td>\n",
       "      <td>1</td>\n",
       "      <td>\"SW-Total Bounding Box Length@@@Bounding Box@@...</td>\n",
       "    </tr>\n",
       "    <tr>\n",
       "      <th>1</th>\n",
       "      <td>CHANUT_BAR_B</td>\n",
       "      <td>NaN</td>\n",
       "      <td>NaN</td>\n",
       "      <td>1</td>\n",
       "      <td>NaN</td>\n",
       "    </tr>\n",
       "    <tr>\n",
       "      <th>2</th>\n",
       "      <td>CHANUT_BAR_B_PRATELEIRA1</td>\n",
       "      <td>NaN</td>\n",
       "      <td>NaN</td>\n",
       "      <td>1</td>\n",
       "      <td>NaN</td>\n",
       "    </tr>\n",
       "    <tr>\n",
       "      <th>3</th>\n",
       "      <td>CHANUT_BAR_B_PRATELEIRA2</td>\n",
       "      <td>NaN</td>\n",
       "      <td>NaN</td>\n",
       "      <td>1</td>\n",
       "      <td>NaN</td>\n",
       "    </tr>\n",
       "    <tr>\n",
       "      <th>4</th>\n",
       "      <td>CHANUT_BAR_B_RODAPE_M</td>\n",
       "      <td>NaN</td>\n",
       "      <td>NaN</td>\n",
       "      <td>1</td>\n",
       "      <td>2181</td>\n",
       "    </tr>\n",
       "    <tr>\n",
       "      <th>5</th>\n",
       "      <td>CHANUT_BAR_C</td>\n",
       "      <td>NaN</td>\n",
       "      <td>NaN</td>\n",
       "      <td>1</td>\n",
       "      <td>NaN</td>\n",
       "    </tr>\n",
       "    <tr>\n",
       "      <th>6</th>\n",
       "      <td>CHANUT_BAR_C_PORTA_DIR</td>\n",
       "      <td>NaN</td>\n",
       "      <td>NaN</td>\n",
       "      <td>1</td>\n",
       "      <td>NaN</td>\n",
       "    </tr>\n",
       "    <tr>\n",
       "      <th>7</th>\n",
       "      <td>CHANUT_BAR_C_PRATELEIRA</td>\n",
       "      <td>NaN</td>\n",
       "      <td>NaN</td>\n",
       "      <td>1</td>\n",
       "      <td>NaN</td>\n",
       "    </tr>\n",
       "    <tr>\n",
       "      <th>8</th>\n",
       "      <td>CHANUT_BAR_C_GAVETA</td>\n",
       "      <td>NaN</td>\n",
       "      <td>NaN</td>\n",
       "      <td>1</td>\n",
       "      <td>NaN</td>\n",
       "    </tr>\n",
       "    <tr>\n",
       "      <th>9</th>\n",
       "      <td>CHANUT_BAR_C_PORTA_ESQ</td>\n",
       "      <td>NaN</td>\n",
       "      <td>NaN</td>\n",
       "      <td>1</td>\n",
       "      <td>NaN</td>\n",
       "    </tr>\n",
       "    <tr>\n",
       "      <th>10</th>\n",
       "      <td>CHANUT_BAR_C_GAVETA2</td>\n",
       "      <td>NaN</td>\n",
       "      <td>NaN</td>\n",
       "      <td>1</td>\n",
       "      <td>NaN</td>\n",
       "    </tr>\n",
       "    <tr>\n",
       "      <th>11</th>\n",
       "      <td>CHANUT_BAR_C_PRATELEIRA2</td>\n",
       "      <td>NaN</td>\n",
       "      <td>NaN</td>\n",
       "      <td>1</td>\n",
       "      <td>NaN</td>\n",
       "    </tr>\n",
       "    <tr>\n",
       "      <th>12</th>\n",
       "      <td>CHANUT_BAR_C_PRAT_CORRER</td>\n",
       "      <td>NaN</td>\n",
       "      <td>NaN</td>\n",
       "      <td>1</td>\n",
       "      <td>NaN</td>\n",
       "    </tr>\n",
       "    <tr>\n",
       "      <th>13</th>\n",
       "      <td>CHANUT_BAR_E</td>\n",
       "      <td>NaN</td>\n",
       "      <td>NaN</td>\n",
       "      <td>1</td>\n",
       "      <td>NaN</td>\n",
       "    </tr>\n",
       "    <tr>\n",
       "      <th>14</th>\n",
       "      <td>CHANUT_BAR_E_PAINEL_CURVA</td>\n",
       "      <td>NaN</td>\n",
       "      <td>NaN</td>\n",
       "      <td>1</td>\n",
       "      <td>NaN</td>\n",
       "    </tr>\n",
       "    <tr>\n",
       "      <th>15</th>\n",
       "      <td>CHANUT_BAR_PAINEL_CURVA_BIT_2</td>\n",
       "      <td>NaN</td>\n",
       "      <td>NaN</td>\n",
       "      <td>1</td>\n",
       "      <td>NaN</td>\n",
       "    </tr>\n",
       "    <tr>\n",
       "      <th>16</th>\n",
       "      <td>CHANUT_BAR_PAINEL_CURVA_BIT_3</td>\n",
       "      <td>NaN</td>\n",
       "      <td>NaN</td>\n",
       "      <td>1</td>\n",
       "      <td>NaN</td>\n",
       "    </tr>\n",
       "    <tr>\n",
       "      <th>17</th>\n",
       "      <td>CHANUT_BAR_PAINEL_CURVA_BIT_1</td>\n",
       "      <td>NaN</td>\n",
       "      <td>NaN</td>\n",
       "      <td>1</td>\n",
       "      <td>NaN</td>\n",
       "    </tr>\n",
       "  </tbody>\n",
       "</table>\n",
       "</div>"
      ],
      "text/plain": [
       "                     REF PEÇA (A)  Tipo (B)  Material (C)  QTD (D)  \\\n",
       "0                      CHANUT_BAR       NaN           NaN        1   \n",
       "1                    CHANUT_BAR_B       NaN           NaN        1   \n",
       "2        CHANUT_BAR_B_PRATELEIRA1       NaN           NaN        1   \n",
       "3        CHANUT_BAR_B_PRATELEIRA2       NaN           NaN        1   \n",
       "4           CHANUT_BAR_B_RODAPE_M       NaN           NaN        1   \n",
       "5                    CHANUT_BAR_C       NaN           NaN        1   \n",
       "6          CHANUT_BAR_C_PORTA_DIR       NaN           NaN        1   \n",
       "7         CHANUT_BAR_C_PRATELEIRA       NaN           NaN        1   \n",
       "8             CHANUT_BAR_C_GAVETA       NaN           NaN        1   \n",
       "9          CHANUT_BAR_C_PORTA_ESQ       NaN           NaN        1   \n",
       "10           CHANUT_BAR_C_GAVETA2       NaN           NaN        1   \n",
       "11       CHANUT_BAR_C_PRATELEIRA2       NaN           NaN        1   \n",
       "12       CHANUT_BAR_C_PRAT_CORRER       NaN           NaN        1   \n",
       "13                   CHANUT_BAR_E       NaN           NaN        1   \n",
       "14      CHANUT_BAR_E_PAINEL_CURVA       NaN           NaN        1   \n",
       "15  CHANUT_BAR_PAINEL_CURVA_BIT_2       NaN           NaN        1   \n",
       "16  CHANUT_BAR_PAINEL_CURVA_BIT_3       NaN           NaN        1   \n",
       "17  CHANUT_BAR_PAINEL_CURVA_BIT_1       NaN           NaN        1   \n",
       "\n",
       "                                             COMP (E)  \n",
       "0   \"SW-Total Bounding Box Length@@@Bounding Box@@...  \n",
       "1                                                 NaN  \n",
       "2                                                 NaN  \n",
       "3                                                 NaN  \n",
       "4                                                2181  \n",
       "5                                                 NaN  \n",
       "6                                                 NaN  \n",
       "7                                                 NaN  \n",
       "8                                                 NaN  \n",
       "9                                                 NaN  \n",
       "10                                                NaN  \n",
       "11                                                NaN  \n",
       "12                                                NaN  \n",
       "13                                                NaN  \n",
       "14                                                NaN  \n",
       "15                                                NaN  \n",
       "16                                                NaN  \n",
       "17                                                NaN  "
      ]
     },
     "execution_count": 79,
     "metadata": {},
     "output_type": "execute_result"
    }
   ],
   "source": [
    "df11"
   ]
  },
  {
   "cell_type": "code",
   "execution_count": 96,
   "id": "ffec9b0b",
   "metadata": {},
   "outputs": [
    {
     "name": "stdout",
     "output_type": "stream",
     "text": [
      "Watchdog received created event - /home/iaggo/Documents/Eins/WoodWorkProjectWatcher/media/public/mofreitas/clientes/iaggo.capitanio@gmail.com/Chanut/briefing/Listas de Corte e Etiquetas/CHANUT_BAR.xlsx\n",
      "Nome do ficheiro: BAR\n"
     ]
    }
   ],
   "source": [
    "import json\n",
    "import os\n",
    "import time\n",
    "import uuid\n",
    "import settings\n",
    "import pandas as pd\n",
    "import requests\n",
    "import watchdog.observers\n",
    "from watchdog.events import FileSystemEventHandler\n",
    "\n",
    "path = \"/home/iaggo/Documents/Eins/WoodWorkProjectWatcher/media/public/mofreitas/clientes/iaggo.capitanio@gmail.com/Chanut/briefing/Listas de Corte e Etiquetas/CHANUT_BAR.xlsx\"\n",
    "print(f\"Watchdog received created event - {path}\")\n",
    "\n",
    "# Extracting file name\n",
    "filename3 = os.path.basename(path).split(\"_\", 3)[-1].split(\".\")[0]\n",
    "print(f\"Nome do ficheiro: {filename3}\")\n",
    "\n",
    "# Read data\n",
    "sheets = {\n",
    "    'DATA - Paineis': settings.EXCEL_PATTERN['panels'][\"columns\"],\n",
    "    'DATA - Macicos': settings.EXCEL_PATTERN['compact-panels'][\"columns\"],\n",
    "    'DATA - ASM': settings.EXCEL_PATTERN['accessories'][\"columns\"]\n",
    "}\n",
    "\n",
    "data_frames = {}\n",
    "\n",
    "for sheet_name, columns in sheets.items():\n",
    "    data_frames[sheet_name] = pd.read_excel(path, sheet_name=sheet_name, usecols=columns)\n",
    "\n",
    "df6_concat = data_frames['DATA - Paineis'].dropna(subset=['REF PEÇA (A)'])\n",
    "df9_concat = data_frames['DATA - Macicos'].dropna(subset=['REF PEÇA (A)'])\n",
    "combined_df = pd.concat([df6_concat, df9_concat])\n",
    "\n",
    "\n",
    "\n"
   ]
  },
  {
   "cell_type": "code",
   "execution_count": 98,
   "id": "213c4381",
   "metadata": {},
   "outputs": [
    {
     "ename": "KeyError",
     "evalue": "'ETIQ'",
     "output_type": "error",
     "traceback": [
      "\u001b[0;31m---------------------------------------------------------------------------\u001b[0m",
      "\u001b[0;31mKeyError\u001b[0m                                  Traceback (most recent call last)",
      "File \u001b[0;32m~/Documents/Eins/WoodWorkProjectWatcher/venv/lib/python3.10/site-packages/pandas/core/indexes/base.py:3652\u001b[0m, in \u001b[0;36mIndex.get_loc\u001b[0;34m(self, key)\u001b[0m\n\u001b[1;32m   3651\u001b[0m \u001b[38;5;28;01mtry\u001b[39;00m:\n\u001b[0;32m-> 3652\u001b[0m     \u001b[38;5;28;01mreturn\u001b[39;00m \u001b[38;5;28;43mself\u001b[39;49m\u001b[38;5;241;43m.\u001b[39;49m\u001b[43m_engine\u001b[49m\u001b[38;5;241;43m.\u001b[39;49m\u001b[43mget_loc\u001b[49m\u001b[43m(\u001b[49m\u001b[43mcasted_key\u001b[49m\u001b[43m)\u001b[49m\n\u001b[1;32m   3653\u001b[0m \u001b[38;5;28;01mexcept\u001b[39;00m \u001b[38;5;167;01mKeyError\u001b[39;00m \u001b[38;5;28;01mas\u001b[39;00m err:\n",
      "File \u001b[0;32m~/Documents/Eins/WoodWorkProjectWatcher/venv/lib/python3.10/site-packages/pandas/_libs/index.pyx:147\u001b[0m, in \u001b[0;36mpandas._libs.index.IndexEngine.get_loc\u001b[0;34m()\u001b[0m\n",
      "File \u001b[0;32m~/Documents/Eins/WoodWorkProjectWatcher/venv/lib/python3.10/site-packages/pandas/_libs/index.pyx:176\u001b[0m, in \u001b[0;36mpandas._libs.index.IndexEngine.get_loc\u001b[0;34m()\u001b[0m\n",
      "File \u001b[0;32mpandas/_libs/hashtable_class_helper.pxi:7080\u001b[0m, in \u001b[0;36mpandas._libs.hashtable.PyObjectHashTable.get_item\u001b[0;34m()\u001b[0m\n",
      "File \u001b[0;32mpandas/_libs/hashtable_class_helper.pxi:7088\u001b[0m, in \u001b[0;36mpandas._libs.hashtable.PyObjectHashTable.get_item\u001b[0;34m()\u001b[0m\n",
      "\u001b[0;31mKeyError\u001b[0m: 'ETIQ'",
      "\nThe above exception was the direct cause of the following exception:\n",
      "\u001b[0;31mKeyError\u001b[0m                                  Traceback (most recent call last)",
      "Cell \u001b[0;32mIn[98], line 9\u001b[0m\n\u001b[1;32m      6\u001b[0m \u001b[38;5;28;01mif\u001b[39;00m pd\u001b[38;5;241m.\u001b[39misnull(row[\u001b[38;5;124m'\u001b[39m\u001b[38;5;124mREF PEÇA (A)\u001b[39m\u001b[38;5;124m'\u001b[39m]):\n\u001b[1;32m      7\u001b[0m     \u001b[38;5;28;01mbreak\u001b[39;00m\n\u001b[0;32m----> 9\u001b[0m etiq \u001b[38;5;241m=\u001b[39m \u001b[43mrow\u001b[49m\u001b[43m[\u001b[49m\u001b[38;5;124;43m\"\u001b[39;49m\u001b[38;5;124;43mETIQ\u001b[39;49m\u001b[38;5;124;43m\"\u001b[39;49m\u001b[43m]\u001b[49m\n\u001b[1;32m     10\u001b[0m \u001b[38;5;28;01mif\u001b[39;00m etiq \u001b[38;5;129;01mnot\u001b[39;00m \u001b[38;5;129;01min\u001b[39;00m etiq_groups:\n\u001b[1;32m     11\u001b[0m     etiq_groups[etiq] \u001b[38;5;241m=\u001b[39m []\n",
      "File \u001b[0;32m~/Documents/Eins/WoodWorkProjectWatcher/venv/lib/python3.10/site-packages/pandas/core/series.py:1007\u001b[0m, in \u001b[0;36mSeries.__getitem__\u001b[0;34m(self, key)\u001b[0m\n\u001b[1;32m   1004\u001b[0m     \u001b[38;5;28;01mreturn\u001b[39;00m \u001b[38;5;28mself\u001b[39m\u001b[38;5;241m.\u001b[39m_values[key]\n\u001b[1;32m   1006\u001b[0m \u001b[38;5;28;01melif\u001b[39;00m key_is_scalar:\n\u001b[0;32m-> 1007\u001b[0m     \u001b[38;5;28;01mreturn\u001b[39;00m \u001b[38;5;28;43mself\u001b[39;49m\u001b[38;5;241;43m.\u001b[39;49m\u001b[43m_get_value\u001b[49m\u001b[43m(\u001b[49m\u001b[43mkey\u001b[49m\u001b[43m)\u001b[49m\n\u001b[1;32m   1009\u001b[0m \u001b[38;5;28;01mif\u001b[39;00m is_hashable(key):\n\u001b[1;32m   1010\u001b[0m     \u001b[38;5;66;03m# Otherwise index.get_value will raise InvalidIndexError\u001b[39;00m\n\u001b[1;32m   1011\u001b[0m     \u001b[38;5;28;01mtry\u001b[39;00m:\n\u001b[1;32m   1012\u001b[0m         \u001b[38;5;66;03m# For labels that don't resolve as scalars like tuples and frozensets\u001b[39;00m\n",
      "File \u001b[0;32m~/Documents/Eins/WoodWorkProjectWatcher/venv/lib/python3.10/site-packages/pandas/core/series.py:1116\u001b[0m, in \u001b[0;36mSeries._get_value\u001b[0;34m(self, label, takeable)\u001b[0m\n\u001b[1;32m   1113\u001b[0m     \u001b[38;5;28;01mreturn\u001b[39;00m \u001b[38;5;28mself\u001b[39m\u001b[38;5;241m.\u001b[39m_values[label]\n\u001b[1;32m   1115\u001b[0m \u001b[38;5;66;03m# Similar to Index.get_value, but we do not fall back to positional\u001b[39;00m\n\u001b[0;32m-> 1116\u001b[0m loc \u001b[38;5;241m=\u001b[39m \u001b[38;5;28;43mself\u001b[39;49m\u001b[38;5;241;43m.\u001b[39;49m\u001b[43mindex\u001b[49m\u001b[38;5;241;43m.\u001b[39;49m\u001b[43mget_loc\u001b[49m\u001b[43m(\u001b[49m\u001b[43mlabel\u001b[49m\u001b[43m)\u001b[49m\n\u001b[1;32m   1118\u001b[0m \u001b[38;5;28;01mif\u001b[39;00m is_integer(loc):\n\u001b[1;32m   1119\u001b[0m     \u001b[38;5;28;01mreturn\u001b[39;00m \u001b[38;5;28mself\u001b[39m\u001b[38;5;241m.\u001b[39m_values[loc]\n",
      "File \u001b[0;32m~/Documents/Eins/WoodWorkProjectWatcher/venv/lib/python3.10/site-packages/pandas/core/indexes/base.py:3654\u001b[0m, in \u001b[0;36mIndex.get_loc\u001b[0;34m(self, key)\u001b[0m\n\u001b[1;32m   3652\u001b[0m     \u001b[38;5;28;01mreturn\u001b[39;00m \u001b[38;5;28mself\u001b[39m\u001b[38;5;241m.\u001b[39m_engine\u001b[38;5;241m.\u001b[39mget_loc(casted_key)\n\u001b[1;32m   3653\u001b[0m \u001b[38;5;28;01mexcept\u001b[39;00m \u001b[38;5;167;01mKeyError\u001b[39;00m \u001b[38;5;28;01mas\u001b[39;00m err:\n\u001b[0;32m-> 3654\u001b[0m     \u001b[38;5;28;01mraise\u001b[39;00m \u001b[38;5;167;01mKeyError\u001b[39;00m(key) \u001b[38;5;28;01mfrom\u001b[39;00m \u001b[38;5;21;01merr\u001b[39;00m\n\u001b[1;32m   3655\u001b[0m \u001b[38;5;28;01mexcept\u001b[39;00m \u001b[38;5;167;01mTypeError\u001b[39;00m:\n\u001b[1;32m   3656\u001b[0m     \u001b[38;5;66;03m# If we have a listlike key, _check_indexing_error will raise\u001b[39;00m\n\u001b[1;32m   3657\u001b[0m     \u001b[38;5;66;03m#  InvalidIndexError. Otherwise we fall through and re-raise\u001b[39;00m\n\u001b[1;32m   3658\u001b[0m     \u001b[38;5;66;03m#  the TypeError.\u001b[39;00m\n\u001b[1;32m   3659\u001b[0m     \u001b[38;5;28mself\u001b[39m\u001b[38;5;241m.\u001b[39m_check_indexing_error(key)\n",
      "\u001b[0;31mKeyError\u001b[0m: 'ETIQ'"
     ]
    }
   ],
   "source": [
    "# Process DATA - ASM\n",
    "df_asm = data_frames['DATA - ASM'].fillna(0)\n",
    "etiq_groups = {}\n",
    "\n",
    "for i, row in df_asm.iterrows():\n",
    "    if pd.isnull(row['REF PEÇA (A)']):\n",
    "        break\n",
    "\n",
    "    etiq = row[\"ETIQ\"]\n",
    "    if etiq not in etiq_groups:\n",
    "        etiq_groups[etiq] = []\n",
    "\n",
    "    etiq_groups[etiq].append(row)\n",
    "\n",
    "\n"
   ]
  },
  {
   "cell_type": "code",
   "execution_count": null,
   "id": "ca00f525",
   "metadata": {},
   "outputs": [],
   "source": [
    "# Process groups\n",
    "group_names = []\n",
    "for i, (etiq, rows) in enumerate(etiq_groups.items()):\n",
    "    name = rows[0]['Ref CONJ (A)']\n",
    "    group_names.append((f'group{i + 1}', name))\n",
    "\n",
    "print(f\"name_of_groups: {group_names}\")\n",
    "\n",
    "# Finding matching names\n",
    "updated_group_names = []\n",
    "for group_number, group_name in group_names:\n",
    "    matching_names = [\n",
    "        row['REF PEÇA (A)']\n",
    "        for _, row in combined_df.iterrows()\n",
    "        if row['REF PEÇA (A)'].startswith(group_name)\n",
    "    ]\n",
    "    updated_group_names.append((group_number, group_name, matching_names))\n",
    "\n",
    "id_module = f'urn:ngsi-ld:Assembly:{uuid.uuid4()}{filename3}'\n",
    "\n",
    "\n",
    "# Send request\n",
    "url = 'http://localhost:8000/api/v1/part/'\n",
    "payload = json.dumps({\n",
    "    'id': id_module,\n",
    "    'type': 'Module',\n",
    "    'name': {\n",
    "        'type': 'Property',\n",
    "        'value': group_names\n",
    "    },\n",
    "    'amount': {\n",
    "        'type': 'Property',\n",
    "        'value': len(etiq_groups)\n",
    "    },\n",
    "    'belongsToAssembly': {\n",
    "        'type': 'Relationship',\n",
    "        'object': f\"urn:ngsi-ld:Assembly:{filename3}\"\n",
    "    }\n",
    "})\n",
    "headers = {\n",
    "    'Content-Type': 'application/json',\n",
    "    'Fiware-Service': 'woodwork40',\n",
    "    'Link': '<http://woodwork4.ddns.net/context/ww4zero.context.jsonld>; <http://woodwork4.ddns.net/context/ww4zero.context-ngsi.jsonld>'\n",
    "}\n",
    "response = requests.post(url, headers=headers, data=payload)\n",
    "\n",
    "print(response)\n",
    "print(response.text)"
   ]
  }
 ],
 "metadata": {
  "kernelspec": {
   "display_name": "ww4",
   "language": "python",
   "name": "ww4"
  },
  "language_info": {
   "codemirror_mode": {
    "name": "ipython",
    "version": 3
   },
   "file_extension": ".py",
   "mimetype": "text/x-python",
   "name": "python",
   "nbconvert_exporter": "python",
   "pygments_lexer": "ipython3",
   "version": "3.10.6"
  }
 },
 "nbformat": 4,
 "nbformat_minor": 5
}
